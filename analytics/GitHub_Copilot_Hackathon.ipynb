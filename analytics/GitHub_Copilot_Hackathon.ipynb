{
  "nbformat": 4,
  "nbformat_minor": 0,
  "metadata": {
    "colab": {
      "provenance": []
    },
    "kernelspec": {
      "name": "python3",
      "display_name": "Python 3"
    },
    "language_info": {
      "name": "python"
    }
  },
  "cells": [
    {
      "cell_type": "markdown",
      "source": [
        "<h1>Problem Statement: </h1>\n",
        "\n",
        "Python - Weather Forecasting Tool\n",
        "<br>\n",
        "<p>\n",
        "  Create a command-line tool that accepts a city's name and returns the current weather forecast. Leverage OpenWeatherMap API to fetch weather data and parse it using Python. Your solution should demonstrate how GitHub Copilot can help you with API usage, data parsing, and error handling.\n",
        "</p>"
      ],
      "metadata": {
        "id": "LqCwMJrssHdi"
      }
    },
    {
      "cell_type": "code",
      "source": [
        "import numpy as np\n",
        "import pandas as pd\n",
        "import matplotlib.pyplot as plt\n",
        "import seaborn as sns\n",
        "import os\n",
        "import requests\n",
        "import json\n",
        "import warnings\n",
        "warnings.filterwarnings('ignore')"
      ],
      "metadata": {
        "id": "82_F8CifTGLQ"
      },
      "execution_count": null,
      "outputs": []
    },
    {
      "cell_type": "code",
      "source": [
        "API_KEY = \"8222d3f76852daaefd9394c4e83c85ee\""
      ],
      "metadata": {
        "id": "WvL4EHO0VSt4"
      },
      "execution_count": null,
      "outputs": []
    },
    {
      "cell_type": "code",
      "source": [],
      "metadata": {
        "id": "FWIer-aYzwcK"
      },
      "execution_count": null,
      "outputs": []
    },
    {
      "cell_type": "code",
      "source": [
        "CITY_NAME=\"delhi\"\n",
        "URL=\"http://api.openweathermap.org/geo/1.0/direct?q={}&limit=5&appid={}\".format(CITY_NAME, API_KEY)\n",
        "\n",
        "response = requests.get(URL)"
      ],
      "metadata": {
        "id": "r-J8QwQLTGIY"
      },
      "execution_count": null,
      "outputs": []
    },
    {
      "cell_type": "code",
      "source": [
        "print(response)"
      ],
      "metadata": {
        "colab": {
          "base_uri": "https://localhost:8080/"
        },
        "id": "y7vmB_QqXhfr",
        "outputId": "3a36c28a-b205-46d7-9c82-4d23497be792"
      },
      "execution_count": null,
      "outputs": [
        {
          "output_type": "stream",
          "name": "stdout",
          "text": [
            "<Response [200]>\n"
          ]
        }
      ]
    },
    {
      "cell_type": "code",
      "source": [
        "data = response.json()\n",
        "#data"
      ],
      "metadata": {
        "id": "FQ2HHP43ZMAC"
      },
      "execution_count": null,
      "outputs": []
    },
    {
      "cell_type": "code",
      "source": [
        "if response.status_code == 200:\n",
        "  name = data[0]['name']\n",
        "  local_name = data[0]['local_names']['en']\n",
        "  latitude = data[0]['lat']\n",
        "  longitude = data[0]['lon']\n",
        "  country = data[0]['country']\n",
        "  state = data[0]['state']\n",
        "  geocode_data = {\"name\":name,\n",
        "                 \"local_name\":local_name,\n",
        "                 \"latitude\":latitude,\n",
        "                 \"longitude\":longitude,\n",
        "                 \"country\":country,\n",
        "                 \"state\":state}\n",
        "\n",
        "geocode_data"
      ],
      "metadata": {
        "colab": {
          "base_uri": "https://localhost:8080/"
        },
        "id": "SR1_gyOQaqZB",
        "outputId": "d37b4834-31db-4310-816d-64821df95a6a"
      },
      "execution_count": null,
      "outputs": [
        {
          "output_type": "execute_result",
          "data": {
            "text/plain": [
              "{'name': 'Delhi',\n",
              " 'local_name': 'Delhi',\n",
              " 'latitude': 28.6517178,\n",
              " 'longitude': 77.2219388,\n",
              " 'country': 'IN',\n",
              " 'state': 'Delhi'}"
            ]
          },
          "metadata": {},
          "execution_count": 6
        }
      ]
    },
    {
      "cell_type": "code",
      "source": [
        "city=\"delhi\""
      ],
      "metadata": {
        "id": "NRzuyIJlulFj"
      },
      "execution_count": null,
      "outputs": []
    },
    {
      "cell_type": "code",
      "source": [
        "## Current Weather Data\n",
        "CURR_WEATHER_URL = \"\""
      ],
      "metadata": {
        "id": "c8jsSymmcr9W"
      },
      "execution_count": null,
      "outputs": []
    },
    {
      "cell_type": "code",
      "source": [
        "from datetime import date\n",
        "import time\n",
        "\n",
        "today = date.today()\n",
        "print(\"Today's date:\", today)\n",
        "unix = time.mktime(today.timetuple())\n",
        "unix_today = int(unix)-86400 #4th June\n",
        "unix_month = unix_today - 2419200 #4th May\n",
        "\n",
        "unix_today = str(unix_today)\n",
        "unix_month = str(unix_month)\n",
        "print(unix_today, unix_month)"
      ],
      "metadata": {
        "colab": {
          "base_uri": "https://localhost:8080/"
        },
        "id": "TBAJGqNZp7OK",
        "outputId": "96653c06-57cd-4a14-c859-f11c28c5ba13"
      },
      "execution_count": null,
      "outputs": [
        {
          "output_type": "stream",
          "name": "stdout",
          "text": [
            "Today's date: 2023-06-26\n",
            "1687651200 1685232000\n"
          ]
        }
      ]
    },
    {
      "cell_type": "code",
      "source": [
        "weather_data_list=[]\n",
        "for i in range(4):\n",
        "  start=int(unix_month) +(i*604800)\n",
        "  start = str(start)\n",
        "  end= int(start)+604800\n",
        "  end=str(end)\n",
        "\n",
        "  HIST_URL = f\"https://history.openweathermap.org/data/2.5/history/city?lat={latitude}&lon={longitude}&type=day&start={start}&end={end}&appid={API_KEY}\"\n",
        "  response_hist = requests.get(HIST_URL)\n",
        "\n",
        "  hist = response_hist.json()\n",
        "  data = hist['list']\n",
        "\n",
        "\n",
        "  for i in data:\n",
        "\n",
        "    weather_data = {\n",
        "              \"date\": pd.Timestamp.utcfromtimestamp(i[\"dt\"]).strftime(\"%Y-%m-%d %H:%M:%S\"),\n",
        "              \"city\": city,\n",
        "              \"pressure\": i['main'][\"pressure\"],\n",
        "              \"temperature_Min\": i['main'][\"temp_min\"],\n",
        "              \"temperature_Max\": i['main'][\"temp_max\"],\n",
        "              \"humidity\": i['main'][\"humidity\"],\n",
        "              \"description\": i[\"weather\"][0][\"description\"]\n",
        "          }\n",
        "    weather_data_list.append(weather_data)\n",
        "\n",
        "df = pd.DataFrame(weather_data_list)\n",
        "df['temperature_Min'] = df['temperature_Min'] - 273.15\n",
        "df['temperature_Max'] = df['temperature_Max'] - 273.15\n",
        "\n",
        "df.shape"
      ],
      "metadata": {
        "colab": {
          "base_uri": "https://localhost:8080/"
        },
        "id": "HiQ3icLZp7LY",
        "outputId": "37dd95f7-a331-40cc-d5b2-85720389da1f"
      },
      "execution_count": null,
      "outputs": [
        {
          "output_type": "execute_result",
          "data": {
            "text/plain": [
              "(676, 7)"
            ]
          },
          "metadata": {},
          "execution_count": 10
        }
      ]
    },
    {
      "cell_type": "code",
      "source": [
        "df=df.drop_duplicates()\n",
        "df.shape"
      ],
      "metadata": {
        "colab": {
          "base_uri": "https://localhost:8080/"
        },
        "id": "PRu3Fsbk7SY2",
        "outputId": "c0cb0c97-cf4d-4735-de57-701274ddf044"
      },
      "execution_count": null,
      "outputs": [
        {
          "output_type": "execute_result",
          "data": {
            "text/plain": [
              "(673, 7)"
            ]
          },
          "metadata": {},
          "execution_count": 11
        }
      ]
    },
    {
      "cell_type": "code",
      "source": [
        "df = df.reset_index(drop=True)\n",
        "df.shape"
      ],
      "metadata": {
        "colab": {
          "base_uri": "https://localhost:8080/"
        },
        "id": "ahpNqS3ABfLM",
        "outputId": "5c6f4ba1-c867-420b-9c7a-95e5516178ca"
      },
      "execution_count": null,
      "outputs": [
        {
          "output_type": "execute_result",
          "data": {
            "text/plain": [
              "(673, 7)"
            ]
          },
          "metadata": {},
          "execution_count": 12
        }
      ]
    },
    {
      "cell_type": "code",
      "source": [
        "df.head()"
      ],
      "metadata": {
        "colab": {
          "base_uri": "https://localhost:8080/",
          "height": 206
        },
        "id": "LM6pMfCauHWo",
        "outputId": "5612ee93-ef2f-4ab2-c579-8d29fa11cc41"
      },
      "execution_count": null,
      "outputs": [
        {
          "output_type": "execute_result",
          "data": {
            "text/plain": [
              "                  date   city  pressure  temperature_Min  temperature_Max  \\\n",
              "0  2023-05-28 00:00:00  delhi      1006            27.69            27.69   \n",
              "1  2023-05-28 01:00:00  delhi      1007            26.05            26.05   \n",
              "2  2023-05-28 02:00:00  delhi      1008            27.05            27.05   \n",
              "3  2023-05-28 03:00:00  delhi      1007            26.96            29.05   \n",
              "4  2023-05-28 04:00:00  delhi      1008            29.96            29.96   \n",
              "\n",
              "   humidity description  \n",
              "0        47   clear sky  \n",
              "1        78        mist  \n",
              "2        69        haze  \n",
              "3        78        mist  \n",
              "4        66        haze  "
            ],
            "text/html": [
              "\n",
              "  <div id=\"df-0df2288d-8a51-4058-ac8f-0c0ca5566bab\">\n",
              "    <div class=\"colab-df-container\">\n",
              "      <div>\n",
              "<style scoped>\n",
              "    .dataframe tbody tr th:only-of-type {\n",
              "        vertical-align: middle;\n",
              "    }\n",
              "\n",
              "    .dataframe tbody tr th {\n",
              "        vertical-align: top;\n",
              "    }\n",
              "\n",
              "    .dataframe thead th {\n",
              "        text-align: right;\n",
              "    }\n",
              "</style>\n",
              "<table border=\"1\" class=\"dataframe\">\n",
              "  <thead>\n",
              "    <tr style=\"text-align: right;\">\n",
              "      <th></th>\n",
              "      <th>date</th>\n",
              "      <th>city</th>\n",
              "      <th>pressure</th>\n",
              "      <th>temperature_Min</th>\n",
              "      <th>temperature_Max</th>\n",
              "      <th>humidity</th>\n",
              "      <th>description</th>\n",
              "    </tr>\n",
              "  </thead>\n",
              "  <tbody>\n",
              "    <tr>\n",
              "      <th>0</th>\n",
              "      <td>2023-05-28 00:00:00</td>\n",
              "      <td>delhi</td>\n",
              "      <td>1006</td>\n",
              "      <td>27.69</td>\n",
              "      <td>27.69</td>\n",
              "      <td>47</td>\n",
              "      <td>clear sky</td>\n",
              "    </tr>\n",
              "    <tr>\n",
              "      <th>1</th>\n",
              "      <td>2023-05-28 01:00:00</td>\n",
              "      <td>delhi</td>\n",
              "      <td>1007</td>\n",
              "      <td>26.05</td>\n",
              "      <td>26.05</td>\n",
              "      <td>78</td>\n",
              "      <td>mist</td>\n",
              "    </tr>\n",
              "    <tr>\n",
              "      <th>2</th>\n",
              "      <td>2023-05-28 02:00:00</td>\n",
              "      <td>delhi</td>\n",
              "      <td>1008</td>\n",
              "      <td>27.05</td>\n",
              "      <td>27.05</td>\n",
              "      <td>69</td>\n",
              "      <td>haze</td>\n",
              "    </tr>\n",
              "    <tr>\n",
              "      <th>3</th>\n",
              "      <td>2023-05-28 03:00:00</td>\n",
              "      <td>delhi</td>\n",
              "      <td>1007</td>\n",
              "      <td>26.96</td>\n",
              "      <td>29.05</td>\n",
              "      <td>78</td>\n",
              "      <td>mist</td>\n",
              "    </tr>\n",
              "    <tr>\n",
              "      <th>4</th>\n",
              "      <td>2023-05-28 04:00:00</td>\n",
              "      <td>delhi</td>\n",
              "      <td>1008</td>\n",
              "      <td>29.96</td>\n",
              "      <td>29.96</td>\n",
              "      <td>66</td>\n",
              "      <td>haze</td>\n",
              "    </tr>\n",
              "  </tbody>\n",
              "</table>\n",
              "</div>\n",
              "      <button class=\"colab-df-convert\" onclick=\"convertToInteractive('df-0df2288d-8a51-4058-ac8f-0c0ca5566bab')\"\n",
              "              title=\"Convert this dataframe to an interactive table.\"\n",
              "              style=\"display:none;\">\n",
              "        \n",
              "  <svg xmlns=\"http://www.w3.org/2000/svg\" height=\"24px\"viewBox=\"0 0 24 24\"\n",
              "       width=\"24px\">\n",
              "    <path d=\"M0 0h24v24H0V0z\" fill=\"none\"/>\n",
              "    <path d=\"M18.56 5.44l.94 2.06.94-2.06 2.06-.94-2.06-.94-.94-2.06-.94 2.06-2.06.94zm-11 1L8.5 8.5l.94-2.06 2.06-.94-2.06-.94L8.5 2.5l-.94 2.06-2.06.94zm10 10l.94 2.06.94-2.06 2.06-.94-2.06-.94-.94-2.06-.94 2.06-2.06.94z\"/><path d=\"M17.41 7.96l-1.37-1.37c-.4-.4-.92-.59-1.43-.59-.52 0-1.04.2-1.43.59L10.3 9.45l-7.72 7.72c-.78.78-.78 2.05 0 2.83L4 21.41c.39.39.9.59 1.41.59.51 0 1.02-.2 1.41-.59l7.78-7.78 2.81-2.81c.8-.78.8-2.07 0-2.86zM5.41 20L4 18.59l7.72-7.72 1.47 1.35L5.41 20z\"/>\n",
              "  </svg>\n",
              "      </button>\n",
              "      \n",
              "  <style>\n",
              "    .colab-df-container {\n",
              "      display:flex;\n",
              "      flex-wrap:wrap;\n",
              "      gap: 12px;\n",
              "    }\n",
              "\n",
              "    .colab-df-convert {\n",
              "      background-color: #E8F0FE;\n",
              "      border: none;\n",
              "      border-radius: 50%;\n",
              "      cursor: pointer;\n",
              "      display: none;\n",
              "      fill: #1967D2;\n",
              "      height: 32px;\n",
              "      padding: 0 0 0 0;\n",
              "      width: 32px;\n",
              "    }\n",
              "\n",
              "    .colab-df-convert:hover {\n",
              "      background-color: #E2EBFA;\n",
              "      box-shadow: 0px 1px 2px rgba(60, 64, 67, 0.3), 0px 1px 3px 1px rgba(60, 64, 67, 0.15);\n",
              "      fill: #174EA6;\n",
              "    }\n",
              "\n",
              "    [theme=dark] .colab-df-convert {\n",
              "      background-color: #3B4455;\n",
              "      fill: #D2E3FC;\n",
              "    }\n",
              "\n",
              "    [theme=dark] .colab-df-convert:hover {\n",
              "      background-color: #434B5C;\n",
              "      box-shadow: 0px 1px 3px 1px rgba(0, 0, 0, 0.15);\n",
              "      filter: drop-shadow(0px 1px 2px rgba(0, 0, 0, 0.3));\n",
              "      fill: #FFFFFF;\n",
              "    }\n",
              "  </style>\n",
              "\n",
              "      <script>\n",
              "        const buttonEl =\n",
              "          document.querySelector('#df-0df2288d-8a51-4058-ac8f-0c0ca5566bab button.colab-df-convert');\n",
              "        buttonEl.style.display =\n",
              "          google.colab.kernel.accessAllowed ? 'block' : 'none';\n",
              "\n",
              "        async function convertToInteractive(key) {\n",
              "          const element = document.querySelector('#df-0df2288d-8a51-4058-ac8f-0c0ca5566bab');\n",
              "          const dataTable =\n",
              "            await google.colab.kernel.invokeFunction('convertToInteractive',\n",
              "                                                     [key], {});\n",
              "          if (!dataTable) return;\n",
              "\n",
              "          const docLinkHtml = 'Like what you see? Visit the ' +\n",
              "            '<a target=\"_blank\" href=https://colab.research.google.com/notebooks/data_table.ipynb>data table notebook</a>'\n",
              "            + ' to learn more about interactive tables.';\n",
              "          element.innerHTML = '';\n",
              "          dataTable['output_type'] = 'display_data';\n",
              "          await google.colab.output.renderOutput(dataTable, element);\n",
              "          const docLink = document.createElement('div');\n",
              "          docLink.innerHTML = docLinkHtml;\n",
              "          element.appendChild(docLink);\n",
              "        }\n",
              "      </script>\n",
              "    </div>\n",
              "  </div>\n",
              "  "
            ]
          },
          "metadata": {},
          "execution_count": 13
        }
      ]
    },
    {
      "cell_type": "code",
      "source": [
        "df.tail()"
      ],
      "metadata": {
        "colab": {
          "base_uri": "https://localhost:8080/",
          "height": 206
        },
        "id": "0I4qtDrxuKue",
        "outputId": "b5e642ff-fd12-4806-fa6e-0e33ea172812"
      },
      "execution_count": null,
      "outputs": [
        {
          "output_type": "execute_result",
          "data": {
            "text/plain": [
              "                    date   city  pressure  temperature_Min  temperature_Max  \\\n",
              "668  2023-06-24 20:00:00  delhi      1001            30.05            30.05   \n",
              "669  2023-06-24 21:00:00  delhi       999            30.05            30.05   \n",
              "670  2023-06-24 22:00:00  delhi      1000            27.05            27.05   \n",
              "671  2023-06-24 23:00:00  delhi      1002            25.05            25.05   \n",
              "672  2023-06-25 00:00:00  delhi      1002            25.05            25.05   \n",
              "\n",
              "     humidity                   description  \n",
              "668        84                          mist  \n",
              "669        84                          mist  \n",
              "670        94                    light rain  \n",
              "671        94        thunderstorm with rain  \n",
              "672       100  thunderstorm with light rain  "
            ],
            "text/html": [
              "\n",
              "  <div id=\"df-a3d5dd3d-ebda-46b0-ae7e-7b802a6a213f\">\n",
              "    <div class=\"colab-df-container\">\n",
              "      <div>\n",
              "<style scoped>\n",
              "    .dataframe tbody tr th:only-of-type {\n",
              "        vertical-align: middle;\n",
              "    }\n",
              "\n",
              "    .dataframe tbody tr th {\n",
              "        vertical-align: top;\n",
              "    }\n",
              "\n",
              "    .dataframe thead th {\n",
              "        text-align: right;\n",
              "    }\n",
              "</style>\n",
              "<table border=\"1\" class=\"dataframe\">\n",
              "  <thead>\n",
              "    <tr style=\"text-align: right;\">\n",
              "      <th></th>\n",
              "      <th>date</th>\n",
              "      <th>city</th>\n",
              "      <th>pressure</th>\n",
              "      <th>temperature_Min</th>\n",
              "      <th>temperature_Max</th>\n",
              "      <th>humidity</th>\n",
              "      <th>description</th>\n",
              "    </tr>\n",
              "  </thead>\n",
              "  <tbody>\n",
              "    <tr>\n",
              "      <th>668</th>\n",
              "      <td>2023-06-24 20:00:00</td>\n",
              "      <td>delhi</td>\n",
              "      <td>1001</td>\n",
              "      <td>30.05</td>\n",
              "      <td>30.05</td>\n",
              "      <td>84</td>\n",
              "      <td>mist</td>\n",
              "    </tr>\n",
              "    <tr>\n",
              "      <th>669</th>\n",
              "      <td>2023-06-24 21:00:00</td>\n",
              "      <td>delhi</td>\n",
              "      <td>999</td>\n",
              "      <td>30.05</td>\n",
              "      <td>30.05</td>\n",
              "      <td>84</td>\n",
              "      <td>mist</td>\n",
              "    </tr>\n",
              "    <tr>\n",
              "      <th>670</th>\n",
              "      <td>2023-06-24 22:00:00</td>\n",
              "      <td>delhi</td>\n",
              "      <td>1000</td>\n",
              "      <td>27.05</td>\n",
              "      <td>27.05</td>\n",
              "      <td>94</td>\n",
              "      <td>light rain</td>\n",
              "    </tr>\n",
              "    <tr>\n",
              "      <th>671</th>\n",
              "      <td>2023-06-24 23:00:00</td>\n",
              "      <td>delhi</td>\n",
              "      <td>1002</td>\n",
              "      <td>25.05</td>\n",
              "      <td>25.05</td>\n",
              "      <td>94</td>\n",
              "      <td>thunderstorm with rain</td>\n",
              "    </tr>\n",
              "    <tr>\n",
              "      <th>672</th>\n",
              "      <td>2023-06-25 00:00:00</td>\n",
              "      <td>delhi</td>\n",
              "      <td>1002</td>\n",
              "      <td>25.05</td>\n",
              "      <td>25.05</td>\n",
              "      <td>100</td>\n",
              "      <td>thunderstorm with light rain</td>\n",
              "    </tr>\n",
              "  </tbody>\n",
              "</table>\n",
              "</div>\n",
              "      <button class=\"colab-df-convert\" onclick=\"convertToInteractive('df-a3d5dd3d-ebda-46b0-ae7e-7b802a6a213f')\"\n",
              "              title=\"Convert this dataframe to an interactive table.\"\n",
              "              style=\"display:none;\">\n",
              "        \n",
              "  <svg xmlns=\"http://www.w3.org/2000/svg\" height=\"24px\"viewBox=\"0 0 24 24\"\n",
              "       width=\"24px\">\n",
              "    <path d=\"M0 0h24v24H0V0z\" fill=\"none\"/>\n",
              "    <path d=\"M18.56 5.44l.94 2.06.94-2.06 2.06-.94-2.06-.94-.94-2.06-.94 2.06-2.06.94zm-11 1L8.5 8.5l.94-2.06 2.06-.94-2.06-.94L8.5 2.5l-.94 2.06-2.06.94zm10 10l.94 2.06.94-2.06 2.06-.94-2.06-.94-.94-2.06-.94 2.06-2.06.94z\"/><path d=\"M17.41 7.96l-1.37-1.37c-.4-.4-.92-.59-1.43-.59-.52 0-1.04.2-1.43.59L10.3 9.45l-7.72 7.72c-.78.78-.78 2.05 0 2.83L4 21.41c.39.39.9.59 1.41.59.51 0 1.02-.2 1.41-.59l7.78-7.78 2.81-2.81c.8-.78.8-2.07 0-2.86zM5.41 20L4 18.59l7.72-7.72 1.47 1.35L5.41 20z\"/>\n",
              "  </svg>\n",
              "      </button>\n",
              "      \n",
              "  <style>\n",
              "    .colab-df-container {\n",
              "      display:flex;\n",
              "      flex-wrap:wrap;\n",
              "      gap: 12px;\n",
              "    }\n",
              "\n",
              "    .colab-df-convert {\n",
              "      background-color: #E8F0FE;\n",
              "      border: none;\n",
              "      border-radius: 50%;\n",
              "      cursor: pointer;\n",
              "      display: none;\n",
              "      fill: #1967D2;\n",
              "      height: 32px;\n",
              "      padding: 0 0 0 0;\n",
              "      width: 32px;\n",
              "    }\n",
              "\n",
              "    .colab-df-convert:hover {\n",
              "      background-color: #E2EBFA;\n",
              "      box-shadow: 0px 1px 2px rgba(60, 64, 67, 0.3), 0px 1px 3px 1px rgba(60, 64, 67, 0.15);\n",
              "      fill: #174EA6;\n",
              "    }\n",
              "\n",
              "    [theme=dark] .colab-df-convert {\n",
              "      background-color: #3B4455;\n",
              "      fill: #D2E3FC;\n",
              "    }\n",
              "\n",
              "    [theme=dark] .colab-df-convert:hover {\n",
              "      background-color: #434B5C;\n",
              "      box-shadow: 0px 1px 3px 1px rgba(0, 0, 0, 0.15);\n",
              "      filter: drop-shadow(0px 1px 2px rgba(0, 0, 0, 0.3));\n",
              "      fill: #FFFFFF;\n",
              "    }\n",
              "  </style>\n",
              "\n",
              "      <script>\n",
              "        const buttonEl =\n",
              "          document.querySelector('#df-a3d5dd3d-ebda-46b0-ae7e-7b802a6a213f button.colab-df-convert');\n",
              "        buttonEl.style.display =\n",
              "          google.colab.kernel.accessAllowed ? 'block' : 'none';\n",
              "\n",
              "        async function convertToInteractive(key) {\n",
              "          const element = document.querySelector('#df-a3d5dd3d-ebda-46b0-ae7e-7b802a6a213f');\n",
              "          const dataTable =\n",
              "            await google.colab.kernel.invokeFunction('convertToInteractive',\n",
              "                                                     [key], {});\n",
              "          if (!dataTable) return;\n",
              "\n",
              "          const docLinkHtml = 'Like what you see? Visit the ' +\n",
              "            '<a target=\"_blank\" href=https://colab.research.google.com/notebooks/data_table.ipynb>data table notebook</a>'\n",
              "            + ' to learn more about interactive tables.';\n",
              "          element.innerHTML = '';\n",
              "          dataTable['output_type'] = 'display_data';\n",
              "          await google.colab.output.renderOutput(dataTable, element);\n",
              "          const docLink = document.createElement('div');\n",
              "          docLink.innerHTML = docLinkHtml;\n",
              "          element.appendChild(docLink);\n",
              "        }\n",
              "      </script>\n",
              "    </div>\n",
              "  </div>\n",
              "  "
            ]
          },
          "metadata": {},
          "execution_count": 14
        }
      ]
    },
    {
      "cell_type": "code",
      "source": [
        "import pandas as pd\n",
        "from sklearn.model_selection import train_test_split\n",
        "from sklearn.preprocessing import LabelEncoder\n",
        "from sklearn.linear_model import LinearRegression\n",
        "\n",
        "# Preprocess the data\n",
        "df['date'] = pd.to_datetime(df['date'])\n",
        "encoded_df = pd.get_dummies(df, columns=['city', 'description'])\n",
        "X = encoded_df.drop(['date', 'pressure', 'temperature_Min', 'temperature_Max', 'humidity'], axis=1)\n",
        "y = encoded_df[['pressure', 'temperature_Min', 'temperature_Max', 'humidity']]\n",
        "\n",
        "# Split the data into training and testing sets\n",
        "X_train, X_test, y_train, y_test = train_test_split(X, y, test_size=0.2, random_state=42)\n",
        "\n"
      ],
      "metadata": {
        "id": "nlLcpPoXmkyi"
      },
      "execution_count": null,
      "outputs": []
    },
    {
      "cell_type": "code",
      "source": [
        "import pandas as pd\n",
        "from sklearn.model_selection import train_test_split\n",
        "from sklearn.preprocessing import LabelEncoder\n",
        "from sklearn.linear_model import LinearRegression\n",
        "\n",
        "# Preprocess the data\n",
        "df['date'] = pd.to_datetime(df['date'])\n",
        "encoded_df = pd.get_dummies(df, columns=['city', 'description'])\n",
        "X = encoded_df.drop(['date', 'pressure', 'temperature_Min', 'temperature_Max', 'humidity'], axis=1)\n",
        "y = encoded_df[['pressure', 'temperature_Min', 'temperature_Max', 'humidity']]\n",
        "\n",
        "# Split the data into training and testing sets\n",
        "X_train, X_test, y_train, y_test = train_test_split(X, y, test_size=0.2, random_state=42)\n",
        "\n",
        "# Select and train the model\n",
        "model = LinearRegression()\n",
        "model.fit(X_train, y_train)\n",
        "\n",
        "# Get the last row from the dataset\n",
        "last_row = X.tail(1)\n",
        "\n",
        "# Make predictions for the next 7 rows\n",
        "predictions = []\n",
        "for _ in range(7):\n",
        "    next_prediction = model.predict(last_row)\n",
        "    predictions.append(next_prediction)\n",
        "    next_row = pd.DataFrame(columns=X.columns, data=next_prediction)\n",
        "    last_row = pd.concat([last_row, next_row], ignore_index=True)\n",
        "\n",
        "# Convert the predictions back to the original units if necessary\n",
        "# ...\n",
        "\n",
        "# Print the predicted values\n",
        "for prediction in predictions:\n",
        "    print(prediction)\n"
      ],
      "metadata": {
        "id": "7eurEzd-vlFM"
      },
      "execution_count": null,
      "outputs": []
    },
    {
      "cell_type": "code",
      "source": [
        "import statistics\n",
        "\n",
        "def most_common(lst):\n",
        "    return max(set(lst), key=lst.count)\n",
        "\n",
        "weather_data_list_new=[]\n",
        "\n",
        "for day in range(28):\n",
        "  npressure = []\n",
        "  ntemp_max =[]\n",
        "  ntemp_min=[]\n",
        "  nhumidity=[]\n",
        "  ndescription=[]\n",
        "  for hr in range(day*24,((day*24)+24)):\n",
        "    npressure.append(df['pressure'][hr])\n",
        "    ntemp_max.append(df['temperature_Max'][hr])\n",
        "    ntemp_min.append(df['temperature_Min'][hr])\n",
        "    nhumidity.append(df['humidity'][hr])\n",
        "    ndescription.append(df['description'][hr])\n",
        "\n",
        "  pr = statistics.mean(npressure)\n",
        "  tmin=statistics.mean(ntemp_min)\n",
        "  tmax =statistics.mean(ntemp_max)\n",
        "  hum = statistics.mean(nhumidity)\n",
        "  desc = most_common(ndescription)\n",
        "  weather_data = {\n",
        "              \"date\": df['date'][day*24][:10],\n",
        "              \"city\": city,\n",
        "              \"pressure\": pr,\n",
        "              \"temperature\": (tmin+tmax)/2,\n",
        "              \"humidity\": hum,\n",
        "              \"description\": desc\n",
        "          }\n",
        "  weather_data_list_new.append(weather_data)\n",
        "\n",
        "df_update = pd.DataFrame(weather_data_list_new)\n",
        "df_update.shape"
      ],
      "metadata": {
        "id": "MFGqYwFO7q9C"
      },
      "execution_count": null,
      "outputs": []
    },
    {
      "cell_type": "code",
      "source": [
        "df_update.head(28)"
      ],
      "metadata": {
        "id": "vZmmvk_J93Wg"
      },
      "execution_count": null,
      "outputs": []
    },
    {
      "cell_type": "code",
      "source": [
        "d = []\n",
        "for i in df['date']:\n",
        "  d.append(i[:10])\n",
        "\n",
        "import collections\n",
        "\n",
        "\n",
        "# using Counter to find frequency of d\n",
        "frequency = collections.Counter(d)\n",
        "\n",
        "# printing the frequency\n",
        "print(dict(frequency))\n"
      ],
      "metadata": {
        "id": "AwV3zuXY2-Pc"
      },
      "execution_count": null,
      "outputs": []
    },
    {
      "cell_type": "code",
      "source": [
        "hist = response_hist.json()"
      ],
      "metadata": {
        "id": "qeRYwZgwdugo"
      },
      "execution_count": null,
      "outputs": []
    },
    {
      "cell_type": "code",
      "source": [
        "data1 = hist['list']"
      ],
      "metadata": {
        "id": "QXBaNGsHRQtW"
      },
      "execution_count": null,
      "outputs": []
    },
    {
      "cell_type": "code",
      "source": [
        "len(data1)"
      ],
      "metadata": {
        "id": "Fz1cqYlRcG89"
      },
      "execution_count": null,
      "outputs": []
    },
    {
      "cell_type": "code",
      "source": [
        "weather_data_list=[]\n",
        "for i in data1:\n",
        "\n",
        "  weather_data = {\n",
        "            \"date\": pd.Timestamp.utcfromtimestamp(i[\"dt\"]).strftime(\"%Y-%m-%d %H:%M:%S\"),\n",
        "            \"city\": \"Delhi\",\n",
        "            \"pressure\": i['main'][\"pressure\"],\n",
        "            \"temperature_Min\": i['main'][\"temp_min\"],\n",
        "            \"temperature_Max\": i['main'][\"temp_max\"],\n",
        "            \"humidity\": i['main'][\"humidity\"],\n",
        "            \"description\": i[\"weather\"][0][\"description\"]\n",
        "        }\n",
        "  weather_data_list.append(weather_data)\n",
        "\n",
        "df = pd.DataFrame(weather_data_list)\n",
        "df.head()"
      ],
      "metadata": {
        "id": "cymc-7RHNVgN"
      },
      "execution_count": null,
      "outputs": []
    },
    {
      "cell_type": "code",
      "source": [
        "df.tail()"
      ],
      "metadata": {
        "id": "PylhrW70a9QY"
      },
      "execution_count": null,
      "outputs": []
    },
    {
      "cell_type": "code",
      "source": [
        "df.shape"
      ],
      "metadata": {
        "id": "deZlzqxRa6BQ"
      },
      "execution_count": null,
      "outputs": []
    },
    {
      "cell_type": "code",
      "source": [
        "import requests\n",
        "import json\n",
        "import pandas as pd\n",
        "\n",
        "def get_weather(api_key, latitude, longitude, start, end):\n",
        "    base_url = f\"https://history.openweathermap.org/data/2.5/history/city?lat={latitude}&lon={longitude}&type=hour&start={start}&end={end}&appid={API_KEY}\"\n",
        "    # params = {\n",
        "    #     \"lat\": \"\",  # Latitude of the city\n",
        "    #     \"lon\": \"\",  # Longitude of the city\n",
        "    #     \"dt\": date,  # Date in Unix timestamp format\n",
        "    #     \"appid\": api_key,\n",
        "    #     \"units\": \"metric\"\n",
        "    # }\n",
        "\n",
        "    # # Retrieving latitude and longitude for the city using geo\n",
        "    # location_url = f\"http://api.openweathermap.org/geo/1.0/direct?q={city}&limit=1&appid={api_key}\"\n",
        "    # location_response = requests.get(location_url)\n",
        "    # location_data = location_response.json()\n",
        "    # if not location_data:\n",
        "    #     print(\"City not found.\")\n",
        "    #     return None\n",
        "\n",
        "    # params[\"lat\"] = location_data[0][\"lat\"]\n",
        "    # params[\"lon\"] = location_data[0][\"lon\"]\n",
        "\n",
        "    try:\n",
        "        response = requests.get(base_url)\n",
        "        data = response.json()\n",
        "\n",
        "        if \"current\" not in data:\n",
        "            print(\"Weather data not found.\")\n",
        "            return None\n",
        "\n",
        "        weather_data = {\n",
        "            \"date\": pd.Timestamp.utcfromtimestamp(hist[\"list\"][\"dt\"]).strftime(\"%Y-%m-%d %H:%M:%S\"),\n",
        "            \"city\": \"Delhi\",\n",
        "            \"pressure\": hist[\"list\"][\"pressure\"],\n",
        "            \"temperature_Min\": hist[\"list\"][\"temp_min\"],\n",
        "            \"temperature_Max\": hist[\"list\"][\"temp_max\"],\n",
        "            \"humidity\": hist[\"list\"][\"humidity\"],\n",
        "            \"description\": hist[\"list\"][\"weather\"][0][\"description\"]\n",
        "        }\n",
        "\n",
        "        return weather_data\n",
        "\n",
        "    except requests.exceptions.RequestException as e:\n",
        "        print(\"Error: \", e)\n",
        "        return None\n",
        "\n",
        "\n",
        "city = input(\"Enter the city of your choice: \")\n",
        "start_date = pd.Timestamp.now() - pd.DateOffset(days=10)  # Start date for weather history\n",
        "end_date = pd.Timestamp.now() - pd.DateOffset(days=1)\n",
        "\n",
        "weather_data_list = []\n",
        "\n",
        "# Iterating over the date range to fetch weather history\n",
        "for date in pd.date_range(start_date, end_date):\n",
        "    formatted_date = int(date.timestamp())\n",
        "    weather = get_weather(API_KEY, \"Delhi\", formatted_date)\n",
        "    if weather:\n",
        "        weather_data_list.append(weather)\n",
        "\n",
        "df = pd.DataFrame(weather_data_list)\n",
        "print(df)\n",
        "\n",
        "\n",
        "\n",
        "\n",
        "weather_data"
      ],
      "metadata": {
        "id": "SFnwwjBPdud4"
      },
      "execution_count": null,
      "outputs": []
    },
    {
      "cell_type": "code",
      "source": [
        "## Bulk Download"
      ],
      "metadata": {
        "id": "LxWWkanFdua-"
      },
      "execution_count": null,
      "outputs": []
    },
    {
      "cell_type": "code",
      "source": [
        "pip install requests\n"
      ],
      "metadata": {
        "id": "m0MOFcQlqZel"
      },
      "execution_count": null,
      "outputs": []
    },
    {
      "cell_type": "code",
      "source": [
        "import requests\n",
        "import json\n",
        "\n",
        "def get_weather(api_key, city):\n",
        "    base_url = \"http://api.openweathermap.org/data/2.5/weather\"\n",
        "    params = {\n",
        "        \"q\": city,\n",
        "        \"appid\": api_key,\n",
        "        \"units\": \"metric\"\n",
        "    }\n",
        "\n",
        "    try:\n",
        "        response = requests.get(base_url, params=params)\n",
        "        data = response.json()\n",
        "\n",
        "        if data[\"cod\"] == \"404\":\n",
        "            print(\"City not found.\")\n",
        "            return None\n",
        "\n",
        "        weather_data = {\n",
        "            \"city\": data[\"name\"],\n",
        "            \"temperature\": data[\"main\"][\"temp\"],\n",
        "            \"humidity\": data[\"main\"][\"humidity\"],\n",
        "            \"description\": data[\"weather\"][0][\"description\"]\n",
        "        }\n",
        "\n",
        "        return weather_data\n",
        "\n",
        "    except requests.exceptions.RequestException as e:\n",
        "        print(\"Error: \", e)\n",
        "        return None\n",
        "\n",
        "\n",
        "api_key = '8222d3f76852daaefd9394c4e83c85ee'#api key\n",
        "city=input(\"Enter the city of your choice: \")\n",
        "\n",
        "\n",
        "weather = get_weather(api_key, city)\n",
        "if weather:\n",
        "    print(\"Weather in {}: \".format(weather[\"city\"]))\n",
        "    print(\"Temperature: {}°C\".format(weather[\"temperature\"]))\n",
        "    print(\"Humidity: {}%\".format(weather[\"humidity\"]))\n",
        "    print(\"Description: {}\".format(weather[\"description\"]))\n"
      ],
      "metadata": {
        "id": "3dCxkkhYqcZu"
      },
      "execution_count": null,
      "outputs": []
    },
    {
      "cell_type": "code",
      "source": [
        "pip install pandas\n"
      ],
      "metadata": {
        "id": "KtTnCsufrEq7"
      },
      "execution_count": null,
      "outputs": []
    },
    {
      "cell_type": "code",
      "source": [
        "import requests\n",
        "import json\n",
        "import pandas as pd\n",
        "\n",
        "def get_weather(api_key, city, date):\n",
        "    base_url = \"https://api.openweathermap.org/data/2.5/onecall/timemachine\"\n",
        "    params = {\n",
        "        \"lat\": \"\",  # Latitude of the city\n",
        "        \"lon\": \"\",  # Longitude of the city\n",
        "        \"dt\": date,  # Date in Unix timestamp format\n",
        "        \"appid\": api_key,\n",
        "        \"units\": \"metric\"\n",
        "    }\n",
        "\n",
        "    # Retrieving latitude and longitude for the city using geo\n",
        "    location_url = f\"http://api.openweathermap.org/geo/1.0/direct?q={city}&limit=1&appid={api_key}\"\n",
        "    location_response = requests.get(location_url)\n",
        "    location_data = location_response.json()\n",
        "    if not location_data:\n",
        "        print(\"City not found.\")\n",
        "        return None\n",
        "\n",
        "    params[\"lat\"] = location_data[0][\"lat\"]\n",
        "    params[\"lon\"] = location_data[0][\"lon\"]\n",
        "\n",
        "    try:\n",
        "        response = requests.get(base_url, params=params)\n",
        "        data = response.json()\n",
        "\n",
        "        if \"current\" not in data:\n",
        "            print(\"Weather data not found.\")\n",
        "            return None\n",
        "\n",
        "        weather_data = {\n",
        "            \"date\": pd.Timestamp.utcfromtimestamp(data[\"current\"][\"dt\"]).strftime(\"%Y-%m-%d %H:%M:%S\"),\n",
        "            \"city\": city,\n",
        "            \"temperature\": data[\"current\"][\"temp\"],\n",
        "            \"humidity\": data[\"current\"][\"humidity\"],\n",
        "            \"description\": data[\"current\"][\"weather\"][0][\"description\"]\n",
        "        }\n",
        "\n",
        "        return weather_data\n",
        "\n",
        "    except requests.exceptions.RequestException as e:\n",
        "        print(\"Error: \", e)\n",
        "        return None\n",
        "\n",
        "\n",
        "api_key = '8222d3f76852daaefd9394c4e83c85ee'\n",
        "city = input(\"Enter the city of your choice: \")\n",
        "start_date = pd.Timestamp.now() - pd.DateOffset(days=5)  # Start date for weather history\n",
        "end_date = pd.Timestamp.now() - pd.DateOffset(days=1)\n",
        "\n",
        "weather_data_list = []\n",
        "\n",
        "# Iterating over the date range to fetch weather history\n",
        "for date in pd.date_range(start_date, end_date):\n",
        "    formatted_date = int(date.timestamp())\n",
        "    weather = get_weather(api_key, city, formatted_date)\n",
        "    if weather:\n",
        "        weather_data_list.append(weather)\n",
        "\n",
        "df = pd.DataFrame(weather_data_list)\n",
        "print(df)\n"
      ],
      "metadata": {
        "id": "hHiQwLwlsiga"
      },
      "execution_count": null,
      "outputs": []
    },
    {
      "cell_type": "code",
      "source": [
        "df.head()"
      ],
      "metadata": {
        "id": "mScJ1kcTveAo"
      },
      "execution_count": null,
      "outputs": []
    },
    {
      "cell_type": "code",
      "source": [
        "import pandas as pd\n",
        "from sklearn.ensemble import RandomForestRegressor\n",
        "from sklearn.model_selection import train_test_split\n",
        "from sklearn.metrics import mean_absolute_error\n",
        "\n",
        "# Split the data into features (X) and target variables (y)\n",
        "X = df[['temperature', 'humidity']]\n",
        "y_temperature = df['temperature']\n",
        "y_humidity = df['humidity']\n",
        "\n",
        "# Split the data into training and testing sets\n",
        "X_train, X_test, y_train, y_test = train_test_split(X, y_temperature, test_size=0.2, random_state=42)\n",
        "\n"
      ],
      "metadata": {
        "id": "k9ab3u4VvjlS"
      },
      "execution_count": null,
      "outputs": []
    },
    {
      "cell_type": "code",
      "source": [
        "#Train the Random Forest model for temperature prediction\n",
        "temperature_model = RandomForestRegressor()\n",
        "temperature_model.fit(X_train, y_train)\n",
        "\n",
        "# Make predictions for today and tomorrow\n",
        "today_data = pd.DataFrame({\n",
        "    \"temperature\": [0],\n",
        "    \"humidity\": [0]\n",
        "})\n",
        "\n",
        "today_temperature_prediction = temperature_model.predict(today_data)\n",
        "\n",
        "print(\"Today's temperature prediction:\", today_temperature_prediction)\n",
        "\n",
        "\n"
      ],
      "metadata": {
        "id": "oG2eE9z7yNij"
      },
      "execution_count": null,
      "outputs": []
    },
    {
      "cell_type": "code",
      "source": [
        "# Train the Random Forest model for temperature prediction\n",
        "temperature_model = RandomForestRegressor()\n",
        "temperature_model.fit(X_train, y_train)\n",
        "\n",
        "# Make prediction for today's temperature\n",
        "today_data = pd.DataFrame({\n",
        "    \"temperature\": [0],\n",
        "    \"humidity\": [0]\n",
        "})\n",
        "\n",
        "today_temperature_prediction = temperature_model.predict(today_data)\n",
        "# Train the Random Forest model for humidity prediction\n",
        "humidity_model = RandomForestRegressor()\n",
        "humidity_model.fit(X_train, y_train)\n",
        "\n",
        "today_humidity_prediction = humidity_model.predict(today_data)\n",
        "\n",
        "\n",
        "# Adding today's data to the DataFrame for tomorrow's prediction\n",
        "df_tomorrow = pd.DataFrame({\n",
        "    \"city\": city,\n",
        "    \"temperature\": today_temperature_prediction,\n",
        "    \"humidity\": today_humidity_prediction,\n",
        "    \"description\": [\"\"]\n",
        "})\n",
        "\n",
        "# Concatenate tomorrow's data with the existing DataFrame\n",
        "df1 = pd.concat([df, df_tomorrow], ignore_index=True)\n",
        "\n",
        "# Drop the date column\n",
        "df1.drop('date', axis=1, inplace=True)\n",
        "print(df1)"
      ],
      "metadata": {
        "id": "Log6U8ApzQBk"
      },
      "execution_count": null,
      "outputs": []
    },
    {
      "cell_type": "code",
      "source": [
        "# Split the data into features (X) and target variables (y)\n",
        "X = df1[['temperature', 'humidity']]\n",
        "y_temperature = df1['temperature']\n",
        "y_humidity = df1['humidity']\n",
        "\n",
        "# Split the data into training and testing sets\n",
        "X_train, X_test, y_train, y_test = train_test_split(X, y_temperature, test_size=0.2, random_state=42)\n",
        "\n",
        "# Retrain the Random Forest model for temperature prediction\n",
        "temperature_model.fit(X_train, y_train)\n",
        "\n",
        "# Make prediction for tomorrow's temperature\n",
        "tomorrow_data = df_tomorrow[['temperature', 'humidity']]\n",
        "tomorrow_temperature_prediction = temperature_model.predict(tomorrow_data)\n",
        "tomorrow_humidity_prediction = humidity_model.predict(tomorrow_data)\n",
        "\n",
        "print(\"Today's temperature prediction:\", today_temperature_prediction)\n",
        "print(\"Tomorrow's temperature prediction:\", tomorrow_temperature_prediction)\n",
        "\n",
        "\n",
        "print(\"Today's humidity prediction:\", today_humidity_prediction)\n",
        "print(\"Tomorrow's humidity prediction:\", tomorrow_humidity_prediction)"
      ],
      "metadata": {
        "id": "oQL5E8mB0yYT"
      },
      "execution_count": null,
      "outputs": []
    },
    {
      "cell_type": "code",
      "source": [
        "tomorrow_data"
      ],
      "metadata": {
        "id": "O4sSKp6tuJ51"
      },
      "execution_count": null,
      "outputs": []
    },
    {
      "cell_type": "code",
      "source": [
        "from sklearn.metrics import mean_squared_error, r2_score\n",
        "import math\n",
        "\n",
        "# Split the data into features (X) and target variable (y_temperature)\n",
        "X = df[['temperature', 'humidity']]\n",
        "y_temperature = df['temperature']\n",
        "\n",
        "# Split the data into training and testing sets\n",
        "X_train, X_test, y_train, y_test = train_test_split(X, y_temperature, test_size=0.2, random_state=42)\n",
        "\n",
        "# Train the Random Forest model for temperature prediction\n",
        "temperature_model = RandomForestRegressor()\n",
        "temperature_model.fit(X_train, y_train)\n",
        "\n",
        "# Make predictions for the test set\n",
        "y_test_pred = temperature_model.predict(X_test)\n",
        "\n",
        "# Calculate evaluation metrics\n",
        "mse = mean_squared_error(y_test, y_test_pred)\n",
        "rmse = math.sqrt(mse)\n",
        "\n",
        "print(\"Mean Squared Error (MSE):\", mse)\n",
        "print(\"Root Mean Squared Error (RMSE):\", rmse)\n"
      ],
      "metadata": {
        "id": "MPuVD6kAy-nA"
      },
      "execution_count": null,
      "outputs": []
    },
    {
      "cell_type": "code",
      "source": [
        "#actual 7 days forcast as fetched by the api\n",
        "import requests\n",
        "\n",
        "api_key = '8222d3f76852daaefd9394c4e83c85ee'\n",
        "\n",
        "# Set the place name\n",
        "place_name = input(\"Enter the place name: \")\n",
        "\n",
        "geocode_url = f'https://api.openweathermap.org/geo/1.0/direct?q={place_name}&limit=1&appid={api_key}'\n",
        "geocode_response = requests.get(geocode_url)\n",
        "\n",
        "if geocode_response.status_code == 200:\n",
        "    geocode_data = geocode_response.json()\n",
        "\n",
        "    if geocode_data:\n",
        "        latitude = geocode_data[0]['lat']\n",
        "        longitude = geocode_data[0]['lon']\n",
        "\n",
        "\n",
        "        weather_url = f'http://api.openweathermap.org/data/2.5/onecall?lat={latitude}&lon={longitude}&exclude=minutely,current&appid={api_key}&units=metric'\n",
        "        response = requests.get(weather_url)\n",
        "\n",
        "        if response.status_code == 200:\n",
        "            data = response.json()\n",
        "\n",
        "\n",
        "\n",
        "\n",
        "            # Fetch hourly forecast for 48 hours\n",
        "            hourly_forecast = data['hourly']\n",
        "\n",
        "            # Fetch daily forecast for 7 days\n",
        "            daily_forecast = data['daily']\n",
        "\n",
        "            # Fetch national weather alerts if available\n",
        "            alerts = data.get('alerts', [])\n",
        "\n",
        "            print('\\nHourly Forecast for 48 Hours:')\n",
        "            print(hourly_forecast)\n",
        "            print('\\nDaily Forecast for 7 Days:')\n",
        "            print(daily_forecast)\n",
        "            print('\\nNational Weather Alerts:')\n",
        "            print(alerts)\n",
        "        else:\n",
        "            print('Error:', response.status_code)\n",
        "    else:\n",
        "        print('Error: No geocoding results found for the specified place')\n",
        "else:\n",
        "    print('Error:', geocode_response.status_code)\n"
      ],
      "metadata": {
        "id": "n0zyjnZXySw3"
      },
      "execution_count": null,
      "outputs": []
    },
    {
      "cell_type": "code",
      "source": [
        "            # Create a list to store the daily forecast data\n",
        "            forecast_data = []\n",
        "\n",
        "            # Iterate over each day in the daily forecast\n",
        "            for day in daily_forecast:\n",
        "                date = pd.to_datetime(day['dt'], unit='s').date()\n",
        "                temp = day['temp']['day']\n",
        "                humidity = day['humidity']\n",
        "                description = day['weather'][0]['description']\n",
        "                forecast_data.append({'Date': date, 'Temperature (°C)': temp, 'Humidity (%)': humidity, 'Description': description})\n",
        "\n",
        "            # Create a dataframe from the forecast data\n",
        "            df_daily_forecast = pd.DataFrame(forecast_data)\n",
        "\n",
        "            print('Daily Forecast for 7 Days:')\n",
        "            print(df_daily_forecast)\n",
        "\n"
      ],
      "metadata": {
        "id": "PB8Dzg5fxmn_"
      },
      "execution_count": null,
      "outputs": []
    },
    {
      "cell_type": "markdown",
      "source": [
        "### Model Evaluation"
      ],
      "metadata": {
        "id": "3ZkbEP6UWNmG"
      }
    },
    {
      "cell_type": "code",
      "source": [
        "df_pred=pd.read_csv('/content/prediction_data.csv')\n",
        "df_actual=pd.read_csv('/content/actual_data.csv')\n",
        "\n",
        "df_final=pd.DataFrame([df_actual['Date'], df_actual['Temperature (Â°C)'],df_pred['temperature'],df_actual['Pressure (hPa)'],df_actual['Humidity (%)']],\n",
        "                      index=['Date', 'Actual_temperature','Pred_temperature','Pressure','Humidity(%)']).T"
      ],
      "metadata": {
        "id": "jHfboG9mWS1n"
      },
      "execution_count": null,
      "outputs": []
    },
    {
      "cell_type": "code",
      "source": [
        "import plotly.express as px\n",
        "fig = px.line_3d(df_final, x=\"Date\", y=\"Pred_temperature\",z=\"Actual_temperature\")\n",
        "fig"
      ],
      "metadata": {
        "colab": {
          "base_uri": "https://localhost:8080/",
          "height": 542
        },
        "id": "_-W_hNwlXl1O",
        "outputId": "3cbcb534-6fe0-48e7-a3c7-dbace837f2e5"
      },
      "execution_count": null,
      "outputs": [
        {
          "output_type": "display_data",
          "data": {
            "text/html": [
              "<html>\n",
              "<head><meta charset=\"utf-8\" /></head>\n",
              "<body>\n",
              "    <div>            <script src=\"https://cdnjs.cloudflare.com/ajax/libs/mathjax/2.7.5/MathJax.js?config=TeX-AMS-MML_SVG\"></script><script type=\"text/javascript\">if (window.MathJax && window.MathJax.Hub && window.MathJax.Hub.Config) {window.MathJax.Hub.Config({SVG: {font: \"STIX-Web\"}});}</script>                <script type=\"text/javascript\">window.PlotlyConfig = {MathJaxConfig: 'local'};</script>\n",
              "        <script src=\"https://cdn.plot.ly/plotly-2.18.2.min.js\"></script>                <div id=\"1fc92b1c-89b8-4cdd-82ee-0a7aa071e3e3\" class=\"plotly-graph-div\" style=\"height:525px; width:100%;\"></div>            <script type=\"text/javascript\">                                    window.PLOTLYENV=window.PLOTLYENV || {};                                    if (document.getElementById(\"1fc92b1c-89b8-4cdd-82ee-0a7aa071e3e3\")) {                    Plotly.newPlot(                        \"1fc92b1c-89b8-4cdd-82ee-0a7aa071e3e3\",                        [{\"hovertemplate\":\"Date=%{x}<br>Pred_temperature=%{y}<br>Actual_temperature=%{z}<extra></extra>\",\"legendgroup\":\"\",\"line\":{\"color\":\"#636efa\",\"dash\":\"solid\"},\"marker\":{\"symbol\":\"circle\"},\"mode\":\"lines\",\"name\":\"\",\"scene\":\"scene\",\"showlegend\":false,\"x\":[\"6/5/2023\",\"6/6/2023\",\"6/7/2023\",\"6/8/2023\",\"6/9/2023\",\"6/10/2023\",\"6/11/2023\",\"6/12/2023\"],\"y\":[25.235173525826,37.535286619155,28.612221312002,32.987106029429,24.004012015401,30.864670825857,25.332126073488,null],\"z\":[36.14,38.08,39.01,39.71,39.0,38.2,37.78,36.82],\"type\":\"scatter3d\"}],                        {\"template\":{\"data\":{\"histogram2dcontour\":[{\"type\":\"histogram2dcontour\",\"colorbar\":{\"outlinewidth\":0,\"ticks\":\"\"},\"colorscale\":[[0.0,\"#0d0887\"],[0.1111111111111111,\"#46039f\"],[0.2222222222222222,\"#7201a8\"],[0.3333333333333333,\"#9c179e\"],[0.4444444444444444,\"#bd3786\"],[0.5555555555555556,\"#d8576b\"],[0.6666666666666666,\"#ed7953\"],[0.7777777777777778,\"#fb9f3a\"],[0.8888888888888888,\"#fdca26\"],[1.0,\"#f0f921\"]]}],\"choropleth\":[{\"type\":\"choropleth\",\"colorbar\":{\"outlinewidth\":0,\"ticks\":\"\"}}],\"histogram2d\":[{\"type\":\"histogram2d\",\"colorbar\":{\"outlinewidth\":0,\"ticks\":\"\"},\"colorscale\":[[0.0,\"#0d0887\"],[0.1111111111111111,\"#46039f\"],[0.2222222222222222,\"#7201a8\"],[0.3333333333333333,\"#9c179e\"],[0.4444444444444444,\"#bd3786\"],[0.5555555555555556,\"#d8576b\"],[0.6666666666666666,\"#ed7953\"],[0.7777777777777778,\"#fb9f3a\"],[0.8888888888888888,\"#fdca26\"],[1.0,\"#f0f921\"]]}],\"heatmap\":[{\"type\":\"heatmap\",\"colorbar\":{\"outlinewidth\":0,\"ticks\":\"\"},\"colorscale\":[[0.0,\"#0d0887\"],[0.1111111111111111,\"#46039f\"],[0.2222222222222222,\"#7201a8\"],[0.3333333333333333,\"#9c179e\"],[0.4444444444444444,\"#bd3786\"],[0.5555555555555556,\"#d8576b\"],[0.6666666666666666,\"#ed7953\"],[0.7777777777777778,\"#fb9f3a\"],[0.8888888888888888,\"#fdca26\"],[1.0,\"#f0f921\"]]}],\"heatmapgl\":[{\"type\":\"heatmapgl\",\"colorbar\":{\"outlinewidth\":0,\"ticks\":\"\"},\"colorscale\":[[0.0,\"#0d0887\"],[0.1111111111111111,\"#46039f\"],[0.2222222222222222,\"#7201a8\"],[0.3333333333333333,\"#9c179e\"],[0.4444444444444444,\"#bd3786\"],[0.5555555555555556,\"#d8576b\"],[0.6666666666666666,\"#ed7953\"],[0.7777777777777778,\"#fb9f3a\"],[0.8888888888888888,\"#fdca26\"],[1.0,\"#f0f921\"]]}],\"contourcarpet\":[{\"type\":\"contourcarpet\",\"colorbar\":{\"outlinewidth\":0,\"ticks\":\"\"}}],\"contour\":[{\"type\":\"contour\",\"colorbar\":{\"outlinewidth\":0,\"ticks\":\"\"},\"colorscale\":[[0.0,\"#0d0887\"],[0.1111111111111111,\"#46039f\"],[0.2222222222222222,\"#7201a8\"],[0.3333333333333333,\"#9c179e\"],[0.4444444444444444,\"#bd3786\"],[0.5555555555555556,\"#d8576b\"],[0.6666666666666666,\"#ed7953\"],[0.7777777777777778,\"#fb9f3a\"],[0.8888888888888888,\"#fdca26\"],[1.0,\"#f0f921\"]]}],\"surface\":[{\"type\":\"surface\",\"colorbar\":{\"outlinewidth\":0,\"ticks\":\"\"},\"colorscale\":[[0.0,\"#0d0887\"],[0.1111111111111111,\"#46039f\"],[0.2222222222222222,\"#7201a8\"],[0.3333333333333333,\"#9c179e\"],[0.4444444444444444,\"#bd3786\"],[0.5555555555555556,\"#d8576b\"],[0.6666666666666666,\"#ed7953\"],[0.7777777777777778,\"#fb9f3a\"],[0.8888888888888888,\"#fdca26\"],[1.0,\"#f0f921\"]]}],\"mesh3d\":[{\"type\":\"mesh3d\",\"colorbar\":{\"outlinewidth\":0,\"ticks\":\"\"}}],\"scatter\":[{\"fillpattern\":{\"fillmode\":\"overlay\",\"size\":10,\"solidity\":0.2},\"type\":\"scatter\"}],\"parcoords\":[{\"type\":\"parcoords\",\"line\":{\"colorbar\":{\"outlinewidth\":0,\"ticks\":\"\"}}}],\"scatterpolargl\":[{\"type\":\"scatterpolargl\",\"marker\":{\"colorbar\":{\"outlinewidth\":0,\"ticks\":\"\"}}}],\"bar\":[{\"error_x\":{\"color\":\"#2a3f5f\"},\"error_y\":{\"color\":\"#2a3f5f\"},\"marker\":{\"line\":{\"color\":\"#E5ECF6\",\"width\":0.5},\"pattern\":{\"fillmode\":\"overlay\",\"size\":10,\"solidity\":0.2}},\"type\":\"bar\"}],\"scattergeo\":[{\"type\":\"scattergeo\",\"marker\":{\"colorbar\":{\"outlinewidth\":0,\"ticks\":\"\"}}}],\"scatterpolar\":[{\"type\":\"scatterpolar\",\"marker\":{\"colorbar\":{\"outlinewidth\":0,\"ticks\":\"\"}}}],\"histogram\":[{\"marker\":{\"pattern\":{\"fillmode\":\"overlay\",\"size\":10,\"solidity\":0.2}},\"type\":\"histogram\"}],\"scattergl\":[{\"type\":\"scattergl\",\"marker\":{\"colorbar\":{\"outlinewidth\":0,\"ticks\":\"\"}}}],\"scatter3d\":[{\"type\":\"scatter3d\",\"line\":{\"colorbar\":{\"outlinewidth\":0,\"ticks\":\"\"}},\"marker\":{\"colorbar\":{\"outlinewidth\":0,\"ticks\":\"\"}}}],\"scattermapbox\":[{\"type\":\"scattermapbox\",\"marker\":{\"colorbar\":{\"outlinewidth\":0,\"ticks\":\"\"}}}],\"scatterternary\":[{\"type\":\"scatterternary\",\"marker\":{\"colorbar\":{\"outlinewidth\":0,\"ticks\":\"\"}}}],\"scattercarpet\":[{\"type\":\"scattercarpet\",\"marker\":{\"colorbar\":{\"outlinewidth\":0,\"ticks\":\"\"}}}],\"carpet\":[{\"aaxis\":{\"endlinecolor\":\"#2a3f5f\",\"gridcolor\":\"white\",\"linecolor\":\"white\",\"minorgridcolor\":\"white\",\"startlinecolor\":\"#2a3f5f\"},\"baxis\":{\"endlinecolor\":\"#2a3f5f\",\"gridcolor\":\"white\",\"linecolor\":\"white\",\"minorgridcolor\":\"white\",\"startlinecolor\":\"#2a3f5f\"},\"type\":\"carpet\"}],\"table\":[{\"cells\":{\"fill\":{\"color\":\"#EBF0F8\"},\"line\":{\"color\":\"white\"}},\"header\":{\"fill\":{\"color\":\"#C8D4E3\"},\"line\":{\"color\":\"white\"}},\"type\":\"table\"}],\"barpolar\":[{\"marker\":{\"line\":{\"color\":\"#E5ECF6\",\"width\":0.5},\"pattern\":{\"fillmode\":\"overlay\",\"size\":10,\"solidity\":0.2}},\"type\":\"barpolar\"}],\"pie\":[{\"automargin\":true,\"type\":\"pie\"}]},\"layout\":{\"autotypenumbers\":\"strict\",\"colorway\":[\"#636efa\",\"#EF553B\",\"#00cc96\",\"#ab63fa\",\"#FFA15A\",\"#19d3f3\",\"#FF6692\",\"#B6E880\",\"#FF97FF\",\"#FECB52\"],\"font\":{\"color\":\"#2a3f5f\"},\"hovermode\":\"closest\",\"hoverlabel\":{\"align\":\"left\"},\"paper_bgcolor\":\"white\",\"plot_bgcolor\":\"#E5ECF6\",\"polar\":{\"bgcolor\":\"#E5ECF6\",\"angularaxis\":{\"gridcolor\":\"white\",\"linecolor\":\"white\",\"ticks\":\"\"},\"radialaxis\":{\"gridcolor\":\"white\",\"linecolor\":\"white\",\"ticks\":\"\"}},\"ternary\":{\"bgcolor\":\"#E5ECF6\",\"aaxis\":{\"gridcolor\":\"white\",\"linecolor\":\"white\",\"ticks\":\"\"},\"baxis\":{\"gridcolor\":\"white\",\"linecolor\":\"white\",\"ticks\":\"\"},\"caxis\":{\"gridcolor\":\"white\",\"linecolor\":\"white\",\"ticks\":\"\"}},\"coloraxis\":{\"colorbar\":{\"outlinewidth\":0,\"ticks\":\"\"}},\"colorscale\":{\"sequential\":[[0.0,\"#0d0887\"],[0.1111111111111111,\"#46039f\"],[0.2222222222222222,\"#7201a8\"],[0.3333333333333333,\"#9c179e\"],[0.4444444444444444,\"#bd3786\"],[0.5555555555555556,\"#d8576b\"],[0.6666666666666666,\"#ed7953\"],[0.7777777777777778,\"#fb9f3a\"],[0.8888888888888888,\"#fdca26\"],[1.0,\"#f0f921\"]],\"sequentialminus\":[[0.0,\"#0d0887\"],[0.1111111111111111,\"#46039f\"],[0.2222222222222222,\"#7201a8\"],[0.3333333333333333,\"#9c179e\"],[0.4444444444444444,\"#bd3786\"],[0.5555555555555556,\"#d8576b\"],[0.6666666666666666,\"#ed7953\"],[0.7777777777777778,\"#fb9f3a\"],[0.8888888888888888,\"#fdca26\"],[1.0,\"#f0f921\"]],\"diverging\":[[0,\"#8e0152\"],[0.1,\"#c51b7d\"],[0.2,\"#de77ae\"],[0.3,\"#f1b6da\"],[0.4,\"#fde0ef\"],[0.5,\"#f7f7f7\"],[0.6,\"#e6f5d0\"],[0.7,\"#b8e186\"],[0.8,\"#7fbc41\"],[0.9,\"#4d9221\"],[1,\"#276419\"]]},\"xaxis\":{\"gridcolor\":\"white\",\"linecolor\":\"white\",\"ticks\":\"\",\"title\":{\"standoff\":15},\"zerolinecolor\":\"white\",\"automargin\":true,\"zerolinewidth\":2},\"yaxis\":{\"gridcolor\":\"white\",\"linecolor\":\"white\",\"ticks\":\"\",\"title\":{\"standoff\":15},\"zerolinecolor\":\"white\",\"automargin\":true,\"zerolinewidth\":2},\"scene\":{\"xaxis\":{\"backgroundcolor\":\"#E5ECF6\",\"gridcolor\":\"white\",\"linecolor\":\"white\",\"showbackground\":true,\"ticks\":\"\",\"zerolinecolor\":\"white\",\"gridwidth\":2},\"yaxis\":{\"backgroundcolor\":\"#E5ECF6\",\"gridcolor\":\"white\",\"linecolor\":\"white\",\"showbackground\":true,\"ticks\":\"\",\"zerolinecolor\":\"white\",\"gridwidth\":2},\"zaxis\":{\"backgroundcolor\":\"#E5ECF6\",\"gridcolor\":\"white\",\"linecolor\":\"white\",\"showbackground\":true,\"ticks\":\"\",\"zerolinecolor\":\"white\",\"gridwidth\":2}},\"shapedefaults\":{\"line\":{\"color\":\"#2a3f5f\"}},\"annotationdefaults\":{\"arrowcolor\":\"#2a3f5f\",\"arrowhead\":0,\"arrowwidth\":1},\"geo\":{\"bgcolor\":\"white\",\"landcolor\":\"#E5ECF6\",\"subunitcolor\":\"white\",\"showland\":true,\"showlakes\":true,\"lakecolor\":\"white\"},\"title\":{\"x\":0.05},\"mapbox\":{\"style\":\"light\"}}},\"scene\":{\"domain\":{\"x\":[0.0,1.0],\"y\":[0.0,1.0]},\"xaxis\":{\"title\":{\"text\":\"Date\"}},\"yaxis\":{\"title\":{\"text\":\"Pred_temperature\"}},\"zaxis\":{\"title\":{\"text\":\"Actual_temperature\"}}},\"legend\":{\"tracegroupgap\":0},\"margin\":{\"t\":60}},                        {\"responsive\": true}                    ).then(function(){\n",
              "                            \n",
              "var gd = document.getElementById('1fc92b1c-89b8-4cdd-82ee-0a7aa071e3e3');\n",
              "var x = new MutationObserver(function (mutations, observer) {{\n",
              "        var display = window.getComputedStyle(gd).display;\n",
              "        if (!display || display === 'none') {{\n",
              "            console.log([gd, 'removed!']);\n",
              "            Plotly.purge(gd);\n",
              "            observer.disconnect();\n",
              "        }}\n",
              "}});\n",
              "\n",
              "// Listen for the removal of the full notebook cells\n",
              "var notebookContainer = gd.closest('#notebook-container');\n",
              "if (notebookContainer) {{\n",
              "    x.observe(notebookContainer, {childList: true});\n",
              "}}\n",
              "\n",
              "// Listen for the clearing of the current output cell\n",
              "var outputEl = gd.closest('.output');\n",
              "if (outputEl) {{\n",
              "    x.observe(outputEl, {childList: true});\n",
              "}}\n",
              "\n",
              "                        })                };                            </script>        </div>\n",
              "</body>\n",
              "</html>"
            ]
          },
          "metadata": {}
        }
      ]
    },
    {
      "cell_type": "code",
      "source": [
        "fig, ax = plt.subplots()\n",
        "ax2 = ax.twinx()\n",
        "\n",
        "df_actual.plot(x=\"Date\", y=[\"Temperature (Â°C)\"], ax=ax)\n",
        "df_pred.plot(x=\"date\", y=[\"temperature\"], ax=ax2, ls=\"--\")\n",
        "fig.legend(loc=\"upper right\", bbox_to_anchor=(1,1), bbox_transform=ax.transAxes)"
      ],
      "metadata": {
        "id": "x0bK3OmSWeOL",
        "colab": {
          "base_uri": "https://localhost:8080/",
          "height": 467
        },
        "outputId": "b42a2f57-ee56-4ce1-c599-678ebe3cb99e"
      },
      "execution_count": null,
      "outputs": [
        {
          "output_type": "execute_result",
          "data": {
            "text/plain": [
              "<matplotlib.legend.Legend at 0x7ff83556f430>"
            ]
          },
          "metadata": {},
          "execution_count": 3
        },
        {
          "output_type": "display_data",
          "data": {
            "text/plain": [
              "<Figure size 640x480 with 2 Axes>"
            ],
            "image/png": "[encoded data removed]"
          },
          "metadata": {}
        }
      ]
    },
    {
      "cell_type": "code",
      "source": [
        "!pip install chart_studio"
      ],
      "metadata": {
        "id": "0rbVmjkGXV03"
      },
      "execution_count": null,
      "outputs": []
    },
    {
      "cell_type": "code",
      "source": [
        "from chart_studio import plotly as py\n",
        "from plotly.graph_objs import *\n",
        "import plotly.graph_objects as go\n",
        "trace1 = {\n",
        "    \"name\": \"Predicted Values\",\n",
        "    \"type\": \"scatter\",\n",
        "    \"x\": df_final['Date'],\n",
        "    \"y\": df_final['Pred_temperature']\n",
        "  }\n",
        "trace2 = {\n",
        "    \"mode\": \"markers\",\n",
        "    \"name\": \"Actual Values\",\n",
        "    \"type\": \"scatter\",\n",
        "    \"x\": df_final['Date'],\n",
        "    \"y\": df_final['Actual_temperature']\n",
        "  }\n",
        "data = Data([trace1, trace2])\n",
        "fig = Figure(data=data)\n",
        "fig"
      ],
      "metadata": {
        "id": "JHGJlA7bWqel",
        "colab": {
          "base_uri": "https://localhost:8080/",
          "height": 698
        },
        "outputId": "4b8c9b10-4095-49c6-bd39-13031b5a49d6"
      },
      "execution_count": null,
      "outputs": [
        {
          "output_type": "stream",
          "name": "stderr",
          "text": [
            "/usr/local/lib/python3.10/dist-packages/plotly/graph_objs/_deprecations.py:31: DeprecationWarning: plotly.graph_objs.Data is deprecated.\n",
            "Please replace it with a list or tuple of instances of the following types\n",
            "  - plotly.graph_objs.Scatter\n",
            "  - plotly.graph_objs.Bar\n",
            "  - plotly.graph_objs.Area\n",
            "  - plotly.graph_objs.Histogram\n",
            "  - etc.\n",
            "\n",
            "  warnings.warn(\n"
          ]
        },
        {
          "output_type": "display_data",
          "data": {
            "text/html": [
              "<html>\n",
              "<head><meta charset=\"utf-8\" /></head>\n",
              "<body>\n",
              "    <div>            <script src=\"https://cdnjs.cloudflare.com/ajax/libs/mathjax/2.7.5/MathJax.js?config=TeX-AMS-MML_SVG\"></script><script type=\"text/javascript\">if (window.MathJax && window.MathJax.Hub && window.MathJax.Hub.Config) {window.MathJax.Hub.Config({SVG: {font: \"STIX-Web\"}});}</script>                <script type=\"text/javascript\">window.PlotlyConfig = {MathJaxConfig: 'local'};</script>\n",
              "        <script src=\"https://cdn.plot.ly/plotly-2.18.2.min.js\"></script>                <div id=\"265dbe7a-b537-41fa-8c61-b6b0a191523a\" class=\"plotly-graph-div\" style=\"height:525px; width:100%;\"></div>            <script type=\"text/javascript\">                                    window.PLOTLYENV=window.PLOTLYENV || {};                                    if (document.getElementById(\"265dbe7a-b537-41fa-8c61-b6b0a191523a\")) {                    Plotly.newPlot(                        \"265dbe7a-b537-41fa-8c61-b6b0a191523a\",                        [{\"name\":\"Predicted Values\",\"x\":[\"6/5/2023\",\"6/6/2023\",\"6/7/2023\",\"6/8/2023\",\"6/9/2023\",\"6/10/2023\",\"6/11/2023\",\"6/12/2023\"],\"y\":[25.235173525826,37.535286619155,28.612221312002,32.987106029429,24.004012015401,30.864670825857,25.332126073488,null],\"type\":\"scatter\"},{\"mode\":\"markers\",\"name\":\"Actual Values\",\"x\":[\"6/5/2023\",\"6/6/2023\",\"6/7/2023\",\"6/8/2023\",\"6/9/2023\",\"6/10/2023\",\"6/11/2023\",\"6/12/2023\"],\"y\":[36.14,38.08,39.01,39.71,39.0,38.2,37.78,36.82],\"type\":\"scatter\"}],                        {\"template\":{\"data\":{\"histogram2dcontour\":[{\"type\":\"histogram2dcontour\",\"colorbar\":{\"outlinewidth\":0,\"ticks\":\"\"},\"colorscale\":[[0.0,\"#0d0887\"],[0.1111111111111111,\"#46039f\"],[0.2222222222222222,\"#7201a8\"],[0.3333333333333333,\"#9c179e\"],[0.4444444444444444,\"#bd3786\"],[0.5555555555555556,\"#d8576b\"],[0.6666666666666666,\"#ed7953\"],[0.7777777777777778,\"#fb9f3a\"],[0.8888888888888888,\"#fdca26\"],[1.0,\"#f0f921\"]]}],\"choropleth\":[{\"type\":\"choropleth\",\"colorbar\":{\"outlinewidth\":0,\"ticks\":\"\"}}],\"histogram2d\":[{\"type\":\"histogram2d\",\"colorbar\":{\"outlinewidth\":0,\"ticks\":\"\"},\"colorscale\":[[0.0,\"#0d0887\"],[0.1111111111111111,\"#46039f\"],[0.2222222222222222,\"#7201a8\"],[0.3333333333333333,\"#9c179e\"],[0.4444444444444444,\"#bd3786\"],[0.5555555555555556,\"#d8576b\"],[0.6666666666666666,\"#ed7953\"],[0.7777777777777778,\"#fb9f3a\"],[0.8888888888888888,\"#fdca26\"],[1.0,\"#f0f921\"]]}],\"heatmap\":[{\"type\":\"heatmap\",\"colorbar\":{\"outlinewidth\":0,\"ticks\":\"\"},\"colorscale\":[[0.0,\"#0d0887\"],[0.1111111111111111,\"#46039f\"],[0.2222222222222222,\"#7201a8\"],[0.3333333333333333,\"#9c179e\"],[0.4444444444444444,\"#bd3786\"],[0.5555555555555556,\"#d8576b\"],[0.6666666666666666,\"#ed7953\"],[0.7777777777777778,\"#fb9f3a\"],[0.8888888888888888,\"#fdca26\"],[1.0,\"#f0f921\"]]}],\"heatmapgl\":[{\"type\":\"heatmapgl\",\"colorbar\":{\"outlinewidth\":0,\"ticks\":\"\"},\"colorscale\":[[0.0,\"#0d0887\"],[0.1111111111111111,\"#46039f\"],[0.2222222222222222,\"#7201a8\"],[0.3333333333333333,\"#9c179e\"],[0.4444444444444444,\"#bd3786\"],[0.5555555555555556,\"#d8576b\"],[0.6666666666666666,\"#ed7953\"],[0.7777777777777778,\"#fb9f3a\"],[0.8888888888888888,\"#fdca26\"],[1.0,\"#f0f921\"]]}],\"contourcarpet\":[{\"type\":\"contourcarpet\",\"colorbar\":{\"outlinewidth\":0,\"ticks\":\"\"}}],\"contour\":[{\"type\":\"contour\",\"colorbar\":{\"outlinewidth\":0,\"ticks\":\"\"},\"colorscale\":[[0.0,\"#0d0887\"],[0.1111111111111111,\"#46039f\"],[0.2222222222222222,\"#7201a8\"],[0.3333333333333333,\"#9c179e\"],[0.4444444444444444,\"#bd3786\"],[0.5555555555555556,\"#d8576b\"],[0.6666666666666666,\"#ed7953\"],[0.7777777777777778,\"#fb9f3a\"],[0.8888888888888888,\"#fdca26\"],[1.0,\"#f0f921\"]]}],\"surface\":[{\"type\":\"surface\",\"colorbar\":{\"outlinewidth\":0,\"ticks\":\"\"},\"colorscale\":[[0.0,\"#0d0887\"],[0.1111111111111111,\"#46039f\"],[0.2222222222222222,\"#7201a8\"],[0.3333333333333333,\"#9c179e\"],[0.4444444444444444,\"#bd3786\"],[0.5555555555555556,\"#d8576b\"],[0.6666666666666666,\"#ed7953\"],[0.7777777777777778,\"#fb9f3a\"],[0.8888888888888888,\"#fdca26\"],[1.0,\"#f0f921\"]]}],\"mesh3d\":[{\"type\":\"mesh3d\",\"colorbar\":{\"outlinewidth\":0,\"ticks\":\"\"}}],\"scatter\":[{\"fillpattern\":{\"fillmode\":\"overlay\",\"size\":10,\"solidity\":0.2},\"type\":\"scatter\"}],\"parcoords\":[{\"type\":\"parcoords\",\"line\":{\"colorbar\":{\"outlinewidth\":0,\"ticks\":\"\"}}}],\"scatterpolargl\":[{\"type\":\"scatterpolargl\",\"marker\":{\"colorbar\":{\"outlinewidth\":0,\"ticks\":\"\"}}}],\"bar\":[{\"error_x\":{\"color\":\"#2a3f5f\"},\"error_y\":{\"color\":\"#2a3f5f\"},\"marker\":{\"line\":{\"color\":\"#E5ECF6\",\"width\":0.5},\"pattern\":{\"fillmode\":\"overlay\",\"size\":10,\"solidity\":0.2}},\"type\":\"bar\"}],\"scattergeo\":[{\"type\":\"scattergeo\",\"marker\":{\"colorbar\":{\"outlinewidth\":0,\"ticks\":\"\"}}}],\"scatterpolar\":[{\"type\":\"scatterpolar\",\"marker\":{\"colorbar\":{\"outlinewidth\":0,\"ticks\":\"\"}}}],\"histogram\":[{\"marker\":{\"pattern\":{\"fillmode\":\"overlay\",\"size\":10,\"solidity\":0.2}},\"type\":\"histogram\"}],\"scattergl\":[{\"type\":\"scattergl\",\"marker\":{\"colorbar\":{\"outlinewidth\":0,\"ticks\":\"\"}}}],\"scatter3d\":[{\"type\":\"scatter3d\",\"line\":{\"colorbar\":{\"outlinewidth\":0,\"ticks\":\"\"}},\"marker\":{\"colorbar\":{\"outlinewidth\":0,\"ticks\":\"\"}}}],\"scattermapbox\":[{\"type\":\"scattermapbox\",\"marker\":{\"colorbar\":{\"outlinewidth\":0,\"ticks\":\"\"}}}],\"scatterternary\":[{\"type\":\"scatterternary\",\"marker\":{\"colorbar\":{\"outlinewidth\":0,\"ticks\":\"\"}}}],\"scattercarpet\":[{\"type\":\"scattercarpet\",\"marker\":{\"colorbar\":{\"outlinewidth\":0,\"ticks\":\"\"}}}],\"carpet\":[{\"aaxis\":{\"endlinecolor\":\"#2a3f5f\",\"gridcolor\":\"white\",\"linecolor\":\"white\",\"minorgridcolor\":\"white\",\"startlinecolor\":\"#2a3f5f\"},\"baxis\":{\"endlinecolor\":\"#2a3f5f\",\"gridcolor\":\"white\",\"linecolor\":\"white\",\"minorgridcolor\":\"white\",\"startlinecolor\":\"#2a3f5f\"},\"type\":\"carpet\"}],\"table\":[{\"cells\":{\"fill\":{\"color\":\"#EBF0F8\"},\"line\":{\"color\":\"white\"}},\"header\":{\"fill\":{\"color\":\"#C8D4E3\"},\"line\":{\"color\":\"white\"}},\"type\":\"table\"}],\"barpolar\":[{\"marker\":{\"line\":{\"color\":\"#E5ECF6\",\"width\":0.5},\"pattern\":{\"fillmode\":\"overlay\",\"size\":10,\"solidity\":0.2}},\"type\":\"barpolar\"}],\"pie\":[{\"automargin\":true,\"type\":\"pie\"}]},\"layout\":{\"autotypenumbers\":\"strict\",\"colorway\":[\"#636efa\",\"#EF553B\",\"#00cc96\",\"#ab63fa\",\"#FFA15A\",\"#19d3f3\",\"#FF6692\",\"#B6E880\",\"#FF97FF\",\"#FECB52\"],\"font\":{\"color\":\"#2a3f5f\"},\"hovermode\":\"closest\",\"hoverlabel\":{\"align\":\"left\"},\"paper_bgcolor\":\"white\",\"plot_bgcolor\":\"#E5ECF6\",\"polar\":{\"bgcolor\":\"#E5ECF6\",\"angularaxis\":{\"gridcolor\":\"white\",\"linecolor\":\"white\",\"ticks\":\"\"},\"radialaxis\":{\"gridcolor\":\"white\",\"linecolor\":\"white\",\"ticks\":\"\"}},\"ternary\":{\"bgcolor\":\"#E5ECF6\",\"aaxis\":{\"gridcolor\":\"white\",\"linecolor\":\"white\",\"ticks\":\"\"},\"baxis\":{\"gridcolor\":\"white\",\"linecolor\":\"white\",\"ticks\":\"\"},\"caxis\":{\"gridcolor\":\"white\",\"linecolor\":\"white\",\"ticks\":\"\"}},\"coloraxis\":{\"colorbar\":{\"outlinewidth\":0,\"ticks\":\"\"}},\"colorscale\":{\"sequential\":[[0.0,\"#0d0887\"],[0.1111111111111111,\"#46039f\"],[0.2222222222222222,\"#7201a8\"],[0.3333333333333333,\"#9c179e\"],[0.4444444444444444,\"#bd3786\"],[0.5555555555555556,\"#d8576b\"],[0.6666666666666666,\"#ed7953\"],[0.7777777777777778,\"#fb9f3a\"],[0.8888888888888888,\"#fdca26\"],[1.0,\"#f0f921\"]],\"sequentialminus\":[[0.0,\"#0d0887\"],[0.1111111111111111,\"#46039f\"],[0.2222222222222222,\"#7201a8\"],[0.3333333333333333,\"#9c179e\"],[0.4444444444444444,\"#bd3786\"],[0.5555555555555556,\"#d8576b\"],[0.6666666666666666,\"#ed7953\"],[0.7777777777777778,\"#fb9f3a\"],[0.8888888888888888,\"#fdca26\"],[1.0,\"#f0f921\"]],\"diverging\":[[0,\"#8e0152\"],[0.1,\"#c51b7d\"],[0.2,\"#de77ae\"],[0.3,\"#f1b6da\"],[0.4,\"#fde0ef\"],[0.5,\"#f7f7f7\"],[0.6,\"#e6f5d0\"],[0.7,\"#b8e186\"],[0.8,\"#7fbc41\"],[0.9,\"#4d9221\"],[1,\"#276419\"]]},\"xaxis\":{\"gridcolor\":\"white\",\"linecolor\":\"white\",\"ticks\":\"\",\"title\":{\"standoff\":15},\"zerolinecolor\":\"white\",\"automargin\":true,\"zerolinewidth\":2},\"yaxis\":{\"gridcolor\":\"white\",\"linecolor\":\"white\",\"ticks\":\"\",\"title\":{\"standoff\":15},\"zerolinecolor\":\"white\",\"automargin\":true,\"zerolinewidth\":2},\"scene\":{\"xaxis\":{\"backgroundcolor\":\"#E5ECF6\",\"gridcolor\":\"white\",\"linecolor\":\"white\",\"showbackground\":true,\"ticks\":\"\",\"zerolinecolor\":\"white\",\"gridwidth\":2},\"yaxis\":{\"backgroundcolor\":\"#E5ECF6\",\"gridcolor\":\"white\",\"linecolor\":\"white\",\"showbackground\":true,\"ticks\":\"\",\"zerolinecolor\":\"white\",\"gridwidth\":2},\"zaxis\":{\"backgroundcolor\":\"#E5ECF6\",\"gridcolor\":\"white\",\"linecolor\":\"white\",\"showbackground\":true,\"ticks\":\"\",\"zerolinecolor\":\"white\",\"gridwidth\":2}},\"shapedefaults\":{\"line\":{\"color\":\"#2a3f5f\"}},\"annotationdefaults\":{\"arrowcolor\":\"#2a3f5f\",\"arrowhead\":0,\"arrowwidth\":1},\"geo\":{\"bgcolor\":\"white\",\"landcolor\":\"#E5ECF6\",\"subunitcolor\":\"white\",\"showland\":true,\"showlakes\":true,\"lakecolor\":\"white\"},\"title\":{\"x\":0.05},\"mapbox\":{\"style\":\"light\"}}}},                        {\"responsive\": true}                    ).then(function(){\n",
              "                            \n",
              "var gd = document.getElementById('265dbe7a-b537-41fa-8c61-b6b0a191523a');\n",
              "var x = new MutationObserver(function (mutations, observer) {{\n",
              "        var display = window.getComputedStyle(gd).display;\n",
              "        if (!display || display === 'none') {{\n",
              "            console.log([gd, 'removed!']);\n",
              "            Plotly.purge(gd);\n",
              "            observer.disconnect();\n",
              "        }}\n",
              "}});\n",
              "\n",
              "// Listen for the removal of the full notebook cells\n",
              "var notebookContainer = gd.closest('#notebook-container');\n",
              "if (notebookContainer) {{\n",
              "    x.observe(notebookContainer, {childList: true});\n",
              "}}\n",
              "\n",
              "// Listen for the clearing of the current output cell\n",
              "var outputEl = gd.closest('.output');\n",
              "if (outputEl) {{\n",
              "    x.observe(outputEl, {childList: true});\n",
              "}}\n",
              "\n",
              "                        })                };                            </script>        </div>\n",
              "</body>\n",
              "</html>"
            ]
          },
          "metadata": {}
        }
      ]
    }
  ]
}